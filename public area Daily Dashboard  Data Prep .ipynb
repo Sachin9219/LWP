{
 "cells": [
  {
   "cell_type": "code",
   "execution_count": null,
   "metadata": {},
   "outputs": [],
   "source": []
  },
  {
   "cell_type": "code",
   "execution_count": 6,
   "metadata": {},
   "outputs": [],
   "source": [
    "import pandas as pd\n",
    "import numpy as np\n",
    "import os\n",
    "\n",
    "os.chdir(\"Z:\\\\Kenny\\\\Raw Data from SQL Pyspark\")\n",
    "\n",
    "df = pd.read_csv('DF_Filtered_4.csv', usecols = ['imsi','time_in','duration'])\n"
   ]
  },
  {
   "cell_type": "code",
   "execution_count": 7,
   "metadata": {},
   "outputs": [
    {
     "data": {
      "text/html": [
       "<div>\n",
       "<style scoped>\n",
       "    .dataframe tbody tr th:only-of-type {\n",
       "        vertical-align: middle;\n",
       "    }\n",
       "\n",
       "    .dataframe tbody tr th {\n",
       "        vertical-align: top;\n",
       "    }\n",
       "\n",
       "    .dataframe thead th {\n",
       "        text-align: right;\n",
       "    }\n",
       "</style>\n",
       "<table border=\"1\" class=\"dataframe\">\n",
       "  <thead>\n",
       "    <tr style=\"text-align: right;\">\n",
       "      <th></th>\n",
       "      <th>imsi</th>\n",
       "      <th>time_in</th>\n",
       "      <th>duration</th>\n",
       "    </tr>\n",
       "  </thead>\n",
       "  <tbody>\n",
       "    <tr>\n",
       "      <th>0</th>\n",
       "      <td>+ApT3AnTU.dIXRih.BtStyE0GVY7UD1MZ8NLm4achqdaIq...</td>\n",
       "      <td>2020-11-13 09:02:06</td>\n",
       "      <td>11</td>\n",
       "    </tr>\n",
       "    <tr>\n",
       "      <th>1</th>\n",
       "      <td>5PTU1Ub8.K.v9SDTGjCR5WGTeWxbkhi6V+zacVfjKSplio...</td>\n",
       "      <td>2020-11-13 12:00:56</td>\n",
       "      <td>5</td>\n",
       "    </tr>\n",
       "    <tr>\n",
       "      <th>2</th>\n",
       "      <td>JBhKBREI812cY2kgLUmmrAQR.7S.KBGI47CPpKh3tB4WZw...</td>\n",
       "      <td>2020-11-13 14:45:40</td>\n",
       "      <td>1</td>\n",
       "    </tr>\n",
       "    <tr>\n",
       "      <th>3</th>\n",
       "      <td>iRCCyJDSFEXbWFku3dmMMEhts2V6bzdU9ohpOeGKydT5Zw...</td>\n",
       "      <td>2020-11-13 06:53:57</td>\n",
       "      <td>55</td>\n",
       "    </tr>\n",
       "    <tr>\n",
       "      <th>4</th>\n",
       "      <td>89LPOMT4RrgDsu9aAYnCBOd44C6Xs82bHjgxyPGdkMkuad...</td>\n",
       "      <td>2020-11-13 19:55:38</td>\n",
       "      <td>2</td>\n",
       "    </tr>\n",
       "  </tbody>\n",
       "</table>\n",
       "</div>"
      ],
      "text/plain": [
       "                                                imsi              time_in  \\\n",
       "0  +ApT3AnTU.dIXRih.BtStyE0GVY7UD1MZ8NLm4achqdaIq...  2020-11-13 09:02:06   \n",
       "1  5PTU1Ub8.K.v9SDTGjCR5WGTeWxbkhi6V+zacVfjKSplio...  2020-11-13 12:00:56   \n",
       "2  JBhKBREI812cY2kgLUmmrAQR.7S.KBGI47CPpKh3tB4WZw...  2020-11-13 14:45:40   \n",
       "3  iRCCyJDSFEXbWFku3dmMMEhts2V6bzdU9ohpOeGKydT5Zw...  2020-11-13 06:53:57   \n",
       "4  89LPOMT4RrgDsu9aAYnCBOd44C6Xs82bHjgxyPGdkMkuad...  2020-11-13 19:55:38   \n",
       "\n",
       "   duration  \n",
       "0        11  \n",
       "1         5  \n",
       "2         1  \n",
       "3        55  \n",
       "4         2  "
      ]
     },
     "execution_count": 7,
     "metadata": {},
     "output_type": "execute_result"
    }
   ],
   "source": [
    "#df_0 = df.copy()\n",
    "#df = df[:5000]\n",
    "df.head(5)"
   ]
  },
  {
   "cell_type": "code",
   "execution_count": 8,
   "metadata": {},
   "outputs": [],
   "source": [
    "df['Dwell_time'] = df.duration/60"
   ]
  },
  {
   "cell_type": "code",
   "execution_count": 9,
   "metadata": {},
   "outputs": [
    {
     "data": {
      "text/plain": [
       "Index(['imsi', 'time_in', 'duration', 'Dwell_time'], dtype='object')"
      ]
     },
     "execution_count": 9,
     "metadata": {},
     "output_type": "execute_result"
    }
   ],
   "source": [
    "df.columns"
   ]
  },
  {
   "cell_type": "code",
   "execution_count": 10,
   "metadata": {},
   "outputs": [
    {
     "data": {
      "text/plain": [
       "imsi           object\n",
       "time_in        object\n",
       "duration        int64\n",
       "Dwell_time    float64\n",
       "dtype: object"
      ]
     },
     "execution_count": 10,
     "metadata": {},
     "output_type": "execute_result"
    }
   ],
   "source": [
    "df.dtypes"
   ]
  },
  {
   "cell_type": "code",
   "execution_count": 11,
   "metadata": {},
   "outputs": [
    {
     "data": {
      "text/html": [
       "<div>\n",
       "<style scoped>\n",
       "    .dataframe tbody tr th:only-of-type {\n",
       "        vertical-align: middle;\n",
       "    }\n",
       "\n",
       "    .dataframe tbody tr th {\n",
       "        vertical-align: top;\n",
       "    }\n",
       "\n",
       "    .dataframe thead th {\n",
       "        text-align: right;\n",
       "    }\n",
       "</style>\n",
       "<table border=\"1\" class=\"dataframe\">\n",
       "  <thead>\n",
       "    <tr style=\"text-align: right;\">\n",
       "      <th></th>\n",
       "      <th>imsi</th>\n",
       "      <th>time_in</th>\n",
       "      <th>duration</th>\n",
       "      <th>Dwell_time</th>\n",
       "    </tr>\n",
       "  </thead>\n",
       "  <tbody>\n",
       "    <tr>\n",
       "      <th>0</th>\n",
       "      <td>+ApT3AnTU.dIXRih.BtStyE0GVY7UD1MZ8NLm4achqdaIq...</td>\n",
       "      <td>2020-11-13 09:02:06</td>\n",
       "      <td>11</td>\n",
       "      <td>0.183333</td>\n",
       "    </tr>\n",
       "    <tr>\n",
       "      <th>1</th>\n",
       "      <td>5PTU1Ub8.K.v9SDTGjCR5WGTeWxbkhi6V+zacVfjKSplio...</td>\n",
       "      <td>2020-11-13 12:00:56</td>\n",
       "      <td>5</td>\n",
       "      <td>0.083333</td>\n",
       "    </tr>\n",
       "    <tr>\n",
       "      <th>2</th>\n",
       "      <td>JBhKBREI812cY2kgLUmmrAQR.7S.KBGI47CPpKh3tB4WZw...</td>\n",
       "      <td>2020-11-13 14:45:40</td>\n",
       "      <td>1</td>\n",
       "      <td>0.016667</td>\n",
       "    </tr>\n",
       "    <tr>\n",
       "      <th>3</th>\n",
       "      <td>iRCCyJDSFEXbWFku3dmMMEhts2V6bzdU9ohpOeGKydT5Zw...</td>\n",
       "      <td>2020-11-13 06:53:57</td>\n",
       "      <td>55</td>\n",
       "      <td>0.916667</td>\n",
       "    </tr>\n",
       "    <tr>\n",
       "      <th>4</th>\n",
       "      <td>89LPOMT4RrgDsu9aAYnCBOd44C6Xs82bHjgxyPGdkMkuad...</td>\n",
       "      <td>2020-11-13 19:55:38</td>\n",
       "      <td>2</td>\n",
       "      <td>0.033333</td>\n",
       "    </tr>\n",
       "  </tbody>\n",
       "</table>\n",
       "</div>"
      ],
      "text/plain": [
       "                                                imsi              time_in  \\\n",
       "0  +ApT3AnTU.dIXRih.BtStyE0GVY7UD1MZ8NLm4achqdaIq...  2020-11-13 09:02:06   \n",
       "1  5PTU1Ub8.K.v9SDTGjCR5WGTeWxbkhi6V+zacVfjKSplio...  2020-11-13 12:00:56   \n",
       "2  JBhKBREI812cY2kgLUmmrAQR.7S.KBGI47CPpKh3tB4WZw...  2020-11-13 14:45:40   \n",
       "3  iRCCyJDSFEXbWFku3dmMMEhts2V6bzdU9ohpOeGKydT5Zw...  2020-11-13 06:53:57   \n",
       "4  89LPOMT4RrgDsu9aAYnCBOd44C6Xs82bHjgxyPGdkMkuad...  2020-11-13 19:55:38   \n",
       "\n",
       "   duration  Dwell_time  \n",
       "0        11    0.183333  \n",
       "1         5    0.083333  \n",
       "2         1    0.016667  \n",
       "3        55    0.916667  \n",
       "4         2    0.033333  "
      ]
     },
     "execution_count": 11,
     "metadata": {},
     "output_type": "execute_result"
    }
   ],
   "source": [
    "df.head(5)"
   ]
  },
  {
   "cell_type": "code",
   "execution_count": 12,
   "metadata": {},
   "outputs": [],
   "source": [
    "file_path = \"Z:\\\\Kenny\\\\DF_Daily_time_agg_2.csv\"\n",
    "\n",
    "df.to_csv(file_path, index = False)"
   ]
  },
  {
   "cell_type": "code",
   "execution_count": 4,
   "metadata": {},
   "outputs": [
    {
     "data": {
      "text/plain": [
       "Classic     1280630\n",
       "Emerald      772530\n",
       "Gold         435466\n",
       "Platinum      60596\n",
       "Name: mobile_value_segment, dtype: int64"
      ]
     },
     "execution_count": 4,
     "metadata": {},
     "output_type": "execute_result"
    }
   ],
   "source": [
    "df.mobile_value_segment = df.mobile_value_segment.replace({'Platinum Plus':'Platinum',\n",
    "                                                          'Prospect Emerald':\"Classic\",\n",
    "                                                          'Prospect Gold':\"Classic\",\n",
    "                                                          'Prospect Platinum':\"Classic\",\n",
    "                                                          'Prospect Plat Plus':\"Classic\",\n",
    "                                                          'N/A':\"Classic\"})\n",
    "\n",
    "df.mobile_value_segment.value_counts()"
   ]
  },
  {
   "cell_type": "code",
   "execution_count": 5,
   "metadata": {},
   "outputs": [
    {
     "data": {
      "text/plain": [
       "36-50 (Working adult)    896712\n",
       "N/A                      575598\n",
       "26-35 (Young adult)      504289\n",
       "> 50 (Elders)            392057\n",
       "19-25 (University)       193342\n",
       "<= 18 (School)            11439\n",
       "Name: age_range, dtype: int64"
      ]
     },
     "execution_count": 5,
     "metadata": {},
     "output_type": "execute_result"
    }
   ],
   "source": [
    "df.age_range = df.age_range.replace({'A) <=12':\"<= 18 (School)\",\n",
    "                                     'B) 13-18 (High school)':\"<= 18 (School)\",\n",
    "                                     'C) 19-25 (University)':\"19-25 (University)\",\n",
    "                                     'F) > 50 (Elders)':\"> 50 (Elders)\",\n",
    "                                     'D) 26-35 (Young adult)':\"26-35 (Young adult)\",\n",
    "                                     'G) N/A':\"N/A\",\n",
    "                                     'E) 36-50 (Working adult)':\"36-50 (Working adult)\"})\n",
    "df.age_range.value_counts()"
   ]
  },
  {
   "cell_type": "code",
   "execution_count": 6,
   "metadata": {},
   "outputs": [
    {
     "data": {
      "text/plain": [
       "A) LTE900/1800/2100 Support    2396988\n",
       "B) LTE Usage                     79663\n",
       "C) 3G 900/2100 Support           76814\n",
       "D) 3G Usage                      19248\n",
       "E) 2G                              724\n",
       "Name: device_max_capabilities, dtype: int64"
      ]
     },
     "execution_count": 6,
     "metadata": {},
     "output_type": "execute_result"
    }
   ],
   "source": [
    "df['device_max_capabilities'].value_counts()"
   ]
  },
  {
   "cell_type": "code",
   "execution_count": 7,
   "metadata": {},
   "outputs": [
    {
     "data": {
      "text/plain": [
       "N    2573437\n",
       "Name: 5G_DEVICE, dtype: int64"
      ]
     },
     "execution_count": 7,
     "metadata": {},
     "output_type": "execute_result"
    }
   ],
   "source": [
    "df['5G_DEVICE'] = df.device_max_capabilities.replace({'A) LTE900/1800/2100 Support':'N',\n",
    "                                                      'B) LTE Usage':'N',\n",
    "                                                      'C) 3G 900/2100 Support':'N',\n",
    "                                                      'D) 3G Usage':'N',\n",
    "                                                      'E) 2G':\"N\",\n",
    "                                                      'F) 5G 2600 Support':\"Y\"})\n",
    "df['5G_DEVICE'].value_counts()"
   ]
  },
  {
   "cell_type": "code",
   "execution_count": 8,
   "metadata": {},
   "outputs": [
    {
     "data": {
      "text/plain": [
       "Very High(>10 GB)       1705907\n",
       "High (3GB to 10GB)       545540\n",
       "Medium(500MB to 3GB)     178570\n",
       "Low (0 to 500 MB)         99049\n",
       "No Usage(0 MB)            22451\n",
       "Name: data_usage, dtype: int64"
      ]
     },
     "execution_count": 8,
     "metadata": {},
     "output_type": "execute_result"
    }
   ],
   "source": [
    "df['data_usage'] = df.data_usage.replace({'VA01: 0':'No Usage(0 MB)',\n",
    "                                          'VA02: 0.01-5':'Low (0 to 500 MB)',\n",
    "                                          'VA03: 5.01-10':'Low (0 to 500 MB)',\n",
    "                                          'VA04: 10.01-20':'Low (0 to 500 MB)',\n",
    "                                          'VA05: 20.01-30':'Low (0 to 500 MB)',\n",
    "                                          'VA06: 30.01-50':'Low (0 to 500 MB)',\n",
    "                                          'VA07: 50.01-70':'Low (0 to 500 MB)',\n",
    "                                          'VA08: 70.01-100':'Low (0 to 500 MB)',\n",
    "                                          'VA09: 100.01-200':'Low (0 to 500 MB)',\n",
    "                                          'VA10: 200.01-300':'Low (0 to 500 MB)',\n",
    "                                          'VA11: 300.01-500':'Low (0 to 500 MB)',\n",
    "                                          'VA12: 500.01-700':'Medium(500MB to 3GB)',\n",
    "                                          'VA13: 700.01-1000':'Medium(500MB to 3GB)',\n",
    "                                          'VA14: 1000.01-2000':'Medium(500MB to 3GB)',\n",
    "                                          'VA15: 2000.01-3000':'Medium(500MB to 3GB)',\n",
    "                                          'VA16: 3000.01-4000':'High (3GB to 10GB)',\n",
    "                                          'VA17: 4000.01-5000':'High (3GB to 10GB)',\n",
    "                                          'VA18: 5000.01-6000':'High (3GB to 10GB)',\n",
    "                                          'VA19: 6000.01-7000':'High (3GB to 10GB)',\n",
    "                                          'VA20: 7000.01-8000':'High (3GB to 10GB)',\n",
    "                                          'VA21: 8000.01-9000':'High (3GB to 10GB)',\n",
    "                                          'VA22: 9000.01-10000':'High (3GB to 10GB)',\n",
    "                                          'VA23: 10000.01-20000':'Very High(>10 GB)',\n",
    "                                          'VA24: 20000.01-30000':'Very High(>10 GB)',\n",
    "                                          'VA25: > 30000':'Very High(>10 GB)',\n",
    "                                          \"\":\"N/A\"})\n",
    "df['data_usage'].value_counts()"
   ]
  },
  {
   "cell_type": "code",
   "execution_count": 9,
   "metadata": {},
   "outputs": [
    {
     "data": {
      "text/plain": [
       "Local      2574623\n",
       "Visitor      84043\n",
       "Name: Visitor_info, dtype: int64"
      ]
     },
     "execution_count": 9,
     "metadata": {},
     "output_type": "execute_result"
    }
   ],
   "source": [
    "# Adding Local_Visitor_info\n",
    "def com(x):\n",
    "    if((str(x['country_network_code']).startswith('520')) & (x['promo_subgroup'] != 'Traveller SIM')):\n",
    "        return 'Local'\n",
    "    else:\n",
    "        return 'Visitor'\n",
    "df['Visitor_info']= df.apply(com,axis=1)\n",
    "df['Visitor_info'].value_counts()"
   ]
  },
  {
   "cell_type": "code",
   "execution_count": 10,
   "metadata": {},
   "outputs": [],
   "source": [
    "#df.groupby('Inbound')['country_network_code'].value_counts()"
   ]
  },
  {
   "cell_type": "code",
   "execution_count": 11,
   "metadata": {},
   "outputs": [],
   "source": [
    "# Filling null values for full dataframe\n",
    "df.fillna('N/A',inplace = True)"
   ]
  },
  {
   "cell_type": "markdown",
   "metadata": {},
   "source": [
    "### Total Users,  Total Footfall,  Unique Subs Pattern by Freq of Visit in day\n",
    "####    1 Visit, 2 Visits, 3-5 Visits, >= 5Visits\"\n"
   ]
  },
  {
   "cell_type": "code",
   "execution_count": 12,
   "metadata": {},
   "outputs": [],
   "source": [
    "group_names = ['pa_id','pa_name','pa_centroid',\n",
    "               'lm_cat_name','lm_sub_name',\n",
    "               'geo_sub_district_name_en','geo_district_name_en',\n",
    "               'geo_province_name_en','geo_sub_region_name_en','geo_region_name_en',\n",
    "               'data_usage','5G_DEVICE','charge_type','mobile_value_segment','age_range','Visitor_info']"
   ]
  },
  {
   "cell_type": "code",
   "execution_count": 13,
   "metadata": {
    "scrolled": true
   },
   "outputs": [],
   "source": [
    "# KPI Total Footfall\n",
    "df_grouped = df.groupby(group_names)['imsi'].agg(unique_subs            = 'nunique',\n",
    "                                                 total_footfall         = 'count',\n",
    "                                                 freq_of_visit_eq_1     = (lambda x : sum(x.value_counts()==1)),\n",
    "                                                 freq_of_visit_eq_2     = (lambda x : sum(x.value_counts()==2)),\n",
    "                                                 freq_of_visit_gte3_lt5 = (lambda x : sum((x.value_counts()>=3)&(x.value_counts()<=5))),\n",
    "                                                 freq_of_visit_gte_5    = (lambda x : sum(x.value_counts() >5))).reset_index()\n"
   ]
  },
  {
   "cell_type": "markdown",
   "metadata": {},
   "source": [
    "### Hourly Footfall Pattern"
   ]
  },
  {
   "cell_type": "code",
   "execution_count": 14,
   "metadata": {},
   "outputs": [
    {
     "data": {
      "text/plain": [
       "(60502, 23)"
      ]
     },
     "execution_count": 14,
     "metadata": {},
     "output_type": "execute_result"
    }
   ],
   "source": [
    "df_hour = df.groupby(group_names)['hour_in'].value_counts().unstack(-1).fillna(0).add_prefix('total_visits_hr_')\n",
    "df_hour.shape"
   ]
  },
  {
   "cell_type": "code",
   "execution_count": 15,
   "metadata": {},
   "outputs": [],
   "source": [
    "df_hour['total_visits_hr_23'] = df_hour['total_visits_hr_0']"
   ]
  },
  {
   "cell_type": "code",
   "execution_count": 16,
   "metadata": {},
   "outputs": [],
   "source": [
    "# Rename columns\n",
    "new_names = {'total_visits_hr_0': 'total_visits_hr_00',\n",
    "             'total_visits_hr_1': 'total_visits_hr_01',\n",
    "             'total_visits_hr_2': 'total_visits_hr_02',\n",
    "             'total_visits_hr_3': 'total_visits_hr_03', \n",
    "             'total_visits_hr_4': 'total_visits_hr_04',\n",
    "             'total_visits_hr_5': 'total_visits_hr_05',\n",
    "             'total_visits_hr_6': 'total_visits_hr_06',\n",
    "             'total_visits_hr_7': 'total_visits_hr_07',\n",
    "             'total_visits_hr_8': 'total_visits_hr_08',\n",
    "             'total_visits_hr_9': 'total_visits_hr_09'}\n",
    "\n",
    "df_hour.rename(columns = new_names,inplace = True)\n",
    "#df_hour.columns"
   ]
  },
  {
   "cell_type": "markdown",
   "metadata": {},
   "source": [
    "### Hourly Unique Subs Pattern"
   ]
  },
  {
   "cell_type": "code",
   "execution_count": 17,
   "metadata": {},
   "outputs": [],
   "source": [
    "group_names.append('hour_in')"
   ]
  },
  {
   "cell_type": "code",
   "execution_count": 18,
   "metadata": {},
   "outputs": [],
   "source": [
    "df_hour_uniq = df.groupby(group_names)['imsi'].nunique().unstack(-1).fillna(0).add_prefix('unique_subs_hr_')"
   ]
  },
  {
   "cell_type": "code",
   "execution_count": 19,
   "metadata": {},
   "outputs": [],
   "source": [
    "# Create 23 hour column \n",
    "df_hour_uniq['unique_subs_hr_23'] = df_hour_uniq['unique_subs_hr_0']"
   ]
  },
  {
   "cell_type": "code",
   "execution_count": 20,
   "metadata": {},
   "outputs": [],
   "source": [
    "# Renaming single digit columns\n",
    "new_names = {'unique_subs_hr_0': 'unique_subs_hr_00',\n",
    "             'unique_subs_hr_1': 'unique_subs_hr_01',\n",
    "             'unique_subs_hr_2': 'unique_subs_hr_02',\n",
    "             'unique_subs_hr_3': 'unique_subs_hr_03', \n",
    "             'unique_subs_hr_4': 'unique_subs_hr_04',\n",
    "             'unique_subs_hr_5': 'unique_subs_hr_05',\n",
    "             'unique_subs_hr_6': 'unique_subs_hr_06',\n",
    "             'unique_subs_hr_7': 'unique_subs_hr_07',\n",
    "             'unique_subs_hr_8': 'unique_subs_hr_08',\n",
    "             'unique_subs_hr_9': 'unique_subs_hr_09'}\n",
    "\n",
    "df_hour_uniq.rename(columns = new_names,inplace = True)\n",
    "#df_hour_uniq.columns"
   ]
  },
  {
   "cell_type": "markdown",
   "metadata": {},
   "source": [
    "### Dwell time/Visit duration day pattern(Unique Subs)\n",
    "(0-30, 30-60, 60-120, 120-180, 180-360, 360-480, >480 mins)\n"
   ]
  },
  {
   "cell_type": "code",
   "execution_count": 21,
   "metadata": {},
   "outputs": [],
   "source": [
    "group_names.remove('hour_in')\n",
    "group_names.append('imsi')"
   ]
  },
  {
   "cell_type": "code",
   "execution_count": 22,
   "metadata": {},
   "outputs": [],
   "source": [
    "Dwell_time = df.groupby(group_names, as_index = False)['duration'].sum()"
   ]
  },
  {
   "cell_type": "code",
   "execution_count": 23,
   "metadata": {},
   "outputs": [],
   "source": [
    "Dwell_time['duration_in_min']= ((Dwell_time.duration)/60).round(2)"
   ]
  },
  {
   "cell_type": "code",
   "execution_count": 24,
   "metadata": {},
   "outputs": [],
   "source": [
    "cut_labels = ['dwell_time_unique_subs_0_30', \n",
    "              'dwell_time_unique_subs_30_60', \n",
    "              'dwell_time_unique_subs_60_120', \n",
    "              'dwell_time_unique_subs_120_180',\n",
    "              'dwell_time_unique_subs_180_360', \n",
    "              'dwell_time_unique_subs_360_480', \n",
    "              'dwell_time_unique_subs_gte480']\n",
    "cut_bins = [0, 30, 60, 120, 180, 360, 480, 1000000]\n",
    "Dwell_time['Dwell_split'] = pd.cut(Dwell_time['duration_in_min'], bins=cut_bins, labels=cut_labels)"
   ]
  },
  {
   "cell_type": "code",
   "execution_count": 25,
   "metadata": {},
   "outputs": [
    {
     "data": {
      "text/plain": [
       "dwell_time_unique_subs_0_30       230593\n",
       "dwell_time_unique_subs_30_60        7368\n",
       "dwell_time_unique_subs_gte480       7271\n",
       "dwell_time_unique_subs_60_120       6911\n",
       "dwell_time_unique_subs_180_360      4866\n",
       "dwell_time_unique_subs_120_180      3433\n",
       "dwell_time_unique_subs_360_480      2030\n",
       "Name: Dwell_split, dtype: int64"
      ]
     },
     "execution_count": 25,
     "metadata": {},
     "output_type": "execute_result"
    }
   ],
   "source": [
    "Dwell_time['Dwell_split'].value_counts()"
   ]
  },
  {
   "cell_type": "code",
   "execution_count": 26,
   "metadata": {},
   "outputs": [],
   "source": [
    "# Dwell_time kpi (final_table)\n",
    "group_names.remove('imsi')\n",
    "\n",
    "Dwell_time_final = Dwell_time.groupby(group_names)['Dwell_split'].value_counts().unstack(-1).fillna(0)\n",
    "\n",
    "#Dwell_time_final.head(2)"
   ]
  },
  {
   "cell_type": "markdown",
   "metadata": {},
   "source": [
    "### Dwell time/Visit duration day pattern(Per Event)\n",
    "(0-30, 30-60, 60-120, 120-180, 180-360, 360-480, >480 mins)\n"
   ]
  },
  {
   "cell_type": "code",
   "execution_count": 27,
   "metadata": {},
   "outputs": [],
   "source": [
    "cut_labels = ['dwell_time_visits_0_30', \n",
    "              'dwell_time_visits_30_60', \n",
    "              'dwell_time_visits_60_120', \n",
    "              'dwell_time_visits_120_180',\n",
    "              'dwell_time_visits_180_360', \n",
    "              'dwell_time_visits_360_480', \n",
    "              'dwell_time_visits_gte480']\n",
    "cut_bins = [0, 30, 60, 120, 180, 360, 480, 1000000]\n",
    "df['Dwell_minutes'] = (df['duration']/60).round(2)\n",
    "df['Dwell_split'] = pd.cut(df['Dwell_minutes'], bins=cut_bins, labels=cut_labels)"
   ]
  },
  {
   "cell_type": "code",
   "execution_count": 28,
   "metadata": {},
   "outputs": [
    {
     "data": {
      "text/plain": [
       "dwell_time_visits_0_30       2598746\n",
       "dwell_time_visits_30_60        16997\n",
       "dwell_time_visits_60_120       12739\n",
       "dwell_time_visits_180_360       4892\n",
       "dwell_time_visits_120_180       4159\n",
       "dwell_time_visits_gte480        2876\n",
       "dwell_time_visits_360_480       1591\n",
       "Name: Dwell_split, dtype: int64"
      ]
     },
     "execution_count": 28,
     "metadata": {},
     "output_type": "execute_result"
    }
   ],
   "source": [
    "df['Dwell_split'].value_counts()"
   ]
  },
  {
   "cell_type": "code",
   "execution_count": 29,
   "metadata": {},
   "outputs": [
    {
     "data": {
      "text/plain": [
       "(60417, 7)"
      ]
     },
     "execution_count": 29,
     "metadata": {},
     "output_type": "execute_result"
    }
   ],
   "source": [
    "df_dwelltime = df.groupby(group_names)['Dwell_split'].value_counts().unstack(-1).fillna(0)\n",
    "df_dwelltime.shape"
   ]
  },
  {
   "cell_type": "code",
   "execution_count": 30,
   "metadata": {},
   "outputs": [],
   "source": [
    "# Join all the groups\n",
    "dfs = [df_grouped,df_hour, df_hour_uniq, df_dwelltime, Dwell_time_final]"
   ]
  },
  {
   "cell_type": "code",
   "execution_count": 31,
   "metadata": {},
   "outputs": [
    {
     "data": {
      "text/plain": [
       "[(60502, 22), (60502, 24), (60502, 24), (60417, 7), (60417, 7)]"
      ]
     },
     "execution_count": 31,
     "metadata": {},
     "output_type": "execute_result"
    }
   ],
   "source": [
    "# Checking/ Validating the groups\n",
    "[df_grouped.shape,df_hour.shape, df_hour_uniq.shape, df_dwelltime.shape, Dwell_time_final.shape]"
   ]
  },
  {
   "cell_type": "code",
   "execution_count": 32,
   "metadata": {},
   "outputs": [],
   "source": [
    "from functools import reduce\n",
    "df_final = reduce(lambda left,right: pd.merge(left,right,on=group_names), dfs)"
   ]
  },
  {
   "cell_type": "code",
   "execution_count": 33,
   "metadata": {},
   "outputs": [
    {
     "data": {
      "text/plain": [
       "(60417, 84)"
      ]
     },
     "execution_count": 33,
     "metadata": {},
     "output_type": "execute_result"
    }
   ],
   "source": [
    "df_final.shape"
   ]
  },
  {
   "cell_type": "code",
   "execution_count": 34,
   "metadata": {},
   "outputs": [],
   "source": [
    "file_path = \"Z:\\\\Kenny\\\\DF_Daily_agg_2.csv\"\n",
    "\n",
    "df_final.to_csv(file_path, index = False)"
   ]
  },
  {
   "cell_type": "code",
   "execution_count": null,
   "metadata": {},
   "outputs": [],
   "source": []
  },
  {
   "cell_type": "code",
   "execution_count": null,
   "metadata": {},
   "outputs": [],
   "source": []
  },
  {
   "cell_type": "code",
   "execution_count": null,
   "metadata": {},
   "outputs": [],
   "source": []
  },
  {
   "cell_type": "code",
   "execution_count": null,
   "metadata": {},
   "outputs": [],
   "source": []
  },
  {
   "cell_type": "code",
   "execution_count": null,
   "metadata": {},
   "outputs": [],
   "source": []
  },
  {
   "cell_type": "code",
   "execution_count": null,
   "metadata": {},
   "outputs": [],
   "source": []
  }
 ],
 "metadata": {
  "kernelspec": {
   "display_name": "Python 3",
   "language": "python",
   "name": "python3"
  },
  "language_info": {
   "codemirror_mode": {
    "name": "ipython",
    "version": 3
   },
   "file_extension": ".py",
   "mimetype": "text/x-python",
   "name": "python",
   "nbconvert_exporter": "python",
   "pygments_lexer": "ipython3",
   "version": "3.7.7"
  }
 },
 "nbformat": 4,
 "nbformat_minor": 4
}
